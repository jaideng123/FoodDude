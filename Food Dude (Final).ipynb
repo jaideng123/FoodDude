{
 "cells": [
  {
   "cell_type": "markdown",
   "metadata": {},
   "source": [
    "# FoodDude: Nutritional Analysis of Foods\n",
    "### Team Dabberlee - Jaiden Gerig, Oron Hazi, Justin Katz, Kyle Wilson\n",
    "\n",
    "## Overview and Motivation\n",
    "In this notebook, we wanted to explore the different foods on the USDA database and see if there are foods out there that can provide all the necessary nutrients needed by a basic 2000 calorie diet. That is, if a single food could possibly be able to provide all the nutrients a human needs while staying within a reasonable calorie range. \n",
    "\n",
    "Originally, one of our team members, Kyle Wilson, prepared a data science spotlight about trying to fulfill desired macronutrients for the least amount of money with fast food. We wanted to look more closely at food analysis through nutrients without regard to price. The USDA database provided us with nutrients for many groceries and fast foods, which gave us a nice base to work off of.\n",
    "\n",
    "## Related work\n",
    "Soylent advertises itself as the only food a human needs in a day. It provides “all the protein, carbohydrates, lipids, and micronutrients that a body needs to thrive.” While Soylent is engineered specifically for this purpose, we wanted to see if there is a food already out there that can provide the same benefits that Soylent can.\n",
    "\n",
    "## Initial Questions\n",
    "* Is there a food that, if eaten solely, could fulfill all the nutritional requirements of a 2000 calorie diet?\n",
    "* What are the foods that provide all the nutritional value you need for the fewest amount of calories?\n",
    "* What are some overall trends of the best foods?\n",
    "* What are the trends of all the foods that provide you with enough nutrients?\n",
    "\n",
    "## Exploratory Analysis\n",
    "\n",
    "All of the data we needed was readily available in a CSV file."
   ]
  },
  {
   "cell_type": "code",
   "execution_count": null,
   "metadata": {
    "collapsed": false
   },
   "outputs": [],
   "source": [
    "import pandas as pd\n",
    "import matplotlib.pyplot as plt\n",
    "from bokeh.io import push_notebook,show,output_notebook\n",
    "from bokeh.layouts import row\n",
    "from bokeh.plotting import figure\n",
    "from bokeh.charts import Bar, output_file, show\n",
    "from bokeh.models import Range1d\n",
    "from bokeh.charts.operations import blend\n",
    "from bokeh import palettes\n",
    "%matplotlib inline\n",
    "output_notebook()\n",
    "calfoods = pd.read_csv('ABBREV.csv', index_col=0)\n",
    "calfoods.head(5)"
   ]
  },
  {
   "cell_type": "markdown",
   "metadata": {},
   "source": [
    "After importing, it we did some light cleaning where we:\n",
    "* Removed foods that don't contain all the essential nutrients\n",
    "* Normalized all the nutriets to 1 calorie \n",
    "* Made the column names a bit easier to read"
   ]
  },
  {
   "cell_type": "code",
   "execution_count": null,
   "metadata": {
    "collapsed": false
   },
   "outputs": [],
   "source": [
    "#Rename some of our columns to something a bit easier on the eyes\n",
    "calfoods = calfoods.rename(index=str,columns={'Shrt_Desc':'Name','Protein_(g)':'Protein (g)','Lipid_Tot_(g)':'Total Fat(g)','Cholestrl_(mg)':'Cholesterol (mg)',\n",
    "               'FA_Sat_(g)':'Saturated Fat (g)','Sodium_(mg)':'Sodium (mg)','Potassium_(mg)':'Potassium (mg)',\n",
    "               'Carbohydrt_(g)':'Carbohydrates (g)','Fiber_TD_(g)':'Fiber (g)','Energ_Kcal':'Calories'})\n",
    "# Look at a specific subset of nutrients\n",
    "calnutrients = ['Name','Protein (g)','Total Fat(g)','Cholesterol (mg)',\n",
    "               'Saturated Fat (g)','Sodium (mg)','Potassium (mg)',\n",
    "               'Carbohydrates (g)','Fiber (g)','Calories','Weight (g)']\n",
    "calfoods['Weight (g)'] = 100.0\n",
    "calfoods = calfoods[calnutrients]\n",
    "calfoods = calfoods.fillna(0)\n",
    "# Get rid of foods we dont have serving sizes for\n",
    "calfoods = calfoods[calfoods.apply(lambda x:x['Calories'] > 0, axis=1)]\n",
    "\n",
    "# Normalizing all our foods to 1 calorie\n",
    "def normalizeNutrientsCal(x):\n",
    "    ratio = x['Calories']\n",
    "    for nutrient in calnutrients:\n",
    "        if(type(x[nutrient]) is str):\n",
    "            continue\n",
    "        x[nutrient] = x[nutrient]/ratio\n",
    "    return x\n",
    "calfoods = calfoods.apply(normalizeNutrientsCal,axis=1)\n",
    "calfoods.head()\n",
    "\n",
    "# We only want foods that have a chance to sustain our needs\n",
    "def filterNutrientsCal(x):\n",
    "    for nutrient in calnutrients:\n",
    "        if(x[nutrient] <= 0):\n",
    "            return False\n",
    "    return True\n",
    "calfoods = calfoods[calfoods.apply(filterNutrientsCal, axis=1)]\n",
    "print \"Foods found:\",len(calfoods)\n",
    "calfoods.head(5)"
   ]
  },
  {
   "cell_type": "markdown",
   "metadata": {},
   "source": [
    "Once we had all the foods cleaned, we could scale them up to meet the recommended daily amount of nutrients for a 2000 Calorie diet which are:\n",
    "\n",
    "\n",
    "| Nutrient              | Unit of Measure | Daily Values |\n",
    "|-----------------------|-----------------|--------------|\n",
    "| Total Fat             | grams (g)       | 65           |\n",
    "| Saturated fatty acids | grams (g)       | 20           |\n",
    "| Cholesterol           | milligrams (mg) | 300          |\n",
    "| Sodium                | milligrams (mg) | 2400         |\n",
    "| Potassium             | milligrams (mg) | 3500         |\n",
    "| Total carbohydrate    | grams (g)       | 300          |\n",
    "| Fiber                 | grams (g)       | 25           |\n",
    "| Protein               | grams (g)       | 50           |\n",
    "\n",
    "For the purposes of our analysis we ignored vitamins as they would disqualify too many foods and could be obtained without any calories through a multi-vitamin."
   ]
  },
  {
   "cell_type": "code",
   "execution_count": null,
   "metadata": {
    "collapsed": true
   },
   "outputs": [],
   "source": [
    "# http://www.netrition.com/rdi_page.html\n",
    "recommended = [-1,50,65,300,20,2400,3500,300,25,-1,-1]\n",
    "def findSatisfyingWeightCal(food):\n",
    "    for x in range(0,len(calnutrients)):\n",
    "        nutrient = calnutrients[x]\n",
    "        rec = recommended[x]\n",
    "        if(rec == -1 or food[nutrient] >= rec):\n",
    "            continue\n",
    "        ratio = rec/food[nutrient]\n",
    "        for y in calnutrients:\n",
    "            if(type(food[y]) is str):\n",
    "                continue\n",
    "            food[y] = food[y]*ratio\n",
    "    return food   \n",
    "calweighted_foods = calfoods.apply(findSatisfyingWeightCal,axis=1)\n",
    "display = ['Name','Calories','Weight (g)','Protein (g)','Total Fat(g)','Cholesterol (mg)',\n",
    "               'Saturated Fat (g)','Sodium (mg)','Potassium (mg)',\n",
    "               'Carbohydrates (g)','Fiber (g)']"
   ]
  },
  {
   "cell_type": "markdown",
   "metadata": {},
   "source": [
    "### The Best Foods\n",
    "Withouth further ado, here are the best foods that we found sorted by total calories to achieve your daily necessary nutrients:"
   ]
  },
  {
   "cell_type": "code",
   "execution_count": null,
   "metadata": {
    "collapsed": false,
    "scrolled": false
   },
   "outputs": [],
   "source": [
    "calweighted_foods[display].sort_values(by='Calories').head(10)"
   ]
  },
  {
   "cell_type": "markdown",
   "metadata": {},
   "source": [
    "This looks a lot like what we would expect \"healthy\" foods to be, mostly soups, potatoes, and baby food.\n",
    "\n",
    "*Wait, did you just say baby food?*\n",
    "\n",
    "While baby food may seem odd an odd pick for a \"healthy\" food at first, it's important to remember that babies often have a very singular diet since they have yet to develop the ability to eat most foods, and it would only make sense that one of the very few foods they eat would contain a good balance of essential nutrients.\n",
    "\n",
    "As for our goal of finding a singular food that fits the 2000 calorie diet, it seems the closest we can get to the ideal 2000 Calories is with vegetable spinach baby food at 2220 Calories. So it seems that there is no single USDA approved food that can give you the right amount of nutrients for 2000 Calories or less.\n",
    "\n",
    "After looking at the data it was hard to judge just how closely these foods stuck to the recommended amount of nutrients, so we converted the raw numbers into their percentage above the recommended daily amount."
   ]
  },
  {
   "cell_type": "code",
   "execution_count": null,
   "metadata": {
    "collapsed": false,
    "scrolled": false
   },
   "outputs": [],
   "source": [
    "def findOveragesCal(food):\n",
    "    for x in range(0,len(calnutrients)):\n",
    "        nutrient = calnutrients[x]\n",
    "        rec = recommended[x]\n",
    "        if(rec == -1):\n",
    "            continue\n",
    "        food[nutrient] -= rec\n",
    "    return food   \n",
    "caloverage_foods = calweighted_foods.apply(findOveragesCal,axis=1)\n",
    "def findPercentOveragesCal(food):\n",
    "    for x in range(0,len(calnutrients)):\n",
    "        nutrient = calnutrients[x]\n",
    "        rec = recommended[x]\n",
    "        if(rec == -1):\n",
    "            continue\n",
    "        food[nutrient] = ((food[nutrient]/rec)*100)-100\n",
    "    return food   \n",
    "caloverage_foods = calweighted_foods.apply(findPercentOveragesCal,axis=1)\n",
    "caloverage_foods[display].sort_values(by='Calories').head(10).rename(index=str,columns={'Protein (g)':'Protein (%)','Total Fat(g)':'Total Fat(%)','Cholesterol (mg)':'Cholesterol (%)',\n",
    "               'Saturated Fat (g)':'Saturated Fat (%)','Sodium (mg)':'Sodium (%)','Potassium (mg)':'Potassium (%)',\n",
    "               'Carbohydrates (g)':'Carbohydrates (%)','Fiber (g)':'Fiber (g)'})\n",
    "df = caloverage_foods.sort_values(by='Calories').head(10).rename(index=str,columns={'Protein (g)':'Protein (%)','Total Fat(g)':'Total Fat(%)','Cholesterol (mg)':'Cholesterol (%)',\n",
    "               'Saturated Fat (g)':'Saturated Fat (%)','Sodium (mg)':'Sodium (%)','Potassium (mg)':'Potassium (%)',\n",
    "               'Carbohydrates (g)':'Carbohydrates (%)','Fiber (g)':'Fiber (%)'})\n",
    "a = Bar(df, label='vars',group='Name', \n",
    "        values=blend('Protein (%)', 'Total Fat(%)','Cholesterol (%)',\n",
    "                     'Saturated Fat (%)','Sodium (%)','Potassium (%)',\n",
    "                     'Carbohydrates (%)','Fiber (%)',name='values', labels_name='vars'),\n",
    "        title=\"Excess Nutrients (% above recommended daily intake)\",width=900,palette=palettes.BrBG11)\n",
    "a.xaxis.axis_label = \"\"\n",
    "a.yaxis.axis_label = \"% above reccomended daily intake\"\n",
    "show(a)"
   ]
  },
  {
   "cell_type": "markdown",
   "metadata": {},
   "source": [
    "Wow! that's a ton of sodium!\n",
    "\n",
    "Looking at this graph makes it seem as though sodium and potassium are the largest overages by a huge margin, but it's important to keep in mind that both of these nutrients are measured in milligrams and thus, changes to their content have a greater impact on these percentages.\n",
    "\n",
    "We decided we needed to take another look at this graph without potassium and sodium to get a clearer picture of how the nutrients measured in grams stacked up to eachother."
   ]
  },
  {
   "cell_type": "code",
   "execution_count": null,
   "metadata": {
    "collapsed": false
   },
   "outputs": [],
   "source": [
    "df = caloverage_foods.sort_values(by='Calories').head(10).rename(index=str,columns={'Protein (g)':'Protein (%)','Total Fat(g)':'Total Fat(%)','Cholesterol (mg)':'Cholesterol (%)',\n",
    "               'Saturated Fat (g)':'Saturated Fat (%)','Sodium (mg)':'Sodium (%)','Potassium (mg)':'Potassium (%)',\n",
    "               'Carbohydrates (g)':'Carbohydrates (%)','Fiber (g)':'Fiber (%)'})\n",
    "a = Bar(df, label='vars',group='Name', \n",
    "        values=blend('Protein (%)', 'Total Fat(%)','Cholesterol (%)',\n",
    "                     'Saturated Fat (%)',\n",
    "                     'Carbohydrates (%)','Fiber (%)',name='values', labels_name='vars'),\n",
    "        title=\"Excess Nutrients (% above recommended daily intake) (Excluding Sodium & Potassium)\",width=900,height=1000,palette=palettes.BrBG11)\n",
    "a.xaxis.axis_label = \"\"\n",
    "a.yaxis.axis_label = \"% above reccomended daily intake\"\n",
    "show(a)"
   ]
  },
  {
   "cell_type": "markdown",
   "metadata": {},
   "source": [
    "So second to sodium and potassium, our best foods have a the highest overages in proteins and saturated fats. So while these foods may be great for giving you all the essential nutrients you need, you may get a bit more then you bargained for in the form of sodium, protein, and saturated fats.\n",
    "\n",
    "Taking another look at our darling child, vegetable-spinach baby food shows that its most prominent overages are in saturated fats, fiber, and proteins. This again, makes sense if you think about the context of a baby's life as it needs a lot of these nutrients to grow bigger and stronger.\n",
    "\n",
    "The final thing to note is that out of our best foods, the lowest nutrient overall seems to be carbohydrates. This may explain why low carb diets often work for so many people as they may be getting a much more balanced set of nutrients, which would improve their health overall.\n"
   ]
  },
  {
   "cell_type": "markdown",
   "metadata": {},
   "source": [
    "### The Worst Foods\n",
    "After looking at the best foods, we thought it was only fair to look at the worst by calorie as well hoping that it would provide insight into what makes certain foods more nutritious than others."
   ]
  },
  {
   "cell_type": "code",
   "execution_count": null,
   "metadata": {
    "collapsed": false
   },
   "outputs": [],
   "source": [
    "calweighted_foods[display].sort_values(by='Calories',ascending=False).head(10)"
   ]
  },
  {
   "cell_type": "markdown",
   "metadata": {},
   "source": [
    "More than half that list is just candy and cookies with Mother's circus animals and it's variations being the most prominent on the list.\n",
    "\n",
    "Sausage, however, is the clear leader here but it's not clear just how much until we look at the overages chart.\n",
    "\n",
    "The most interesting part of the list was McDonald's yogurt parfaits, as usually a parfait is seen as one of the healthier deserts you can have and its appearance on our list actually presents a small hole in our methodology. The food itself is actually fairly healthy overall, but it lacks in many of the key nutrients were looking for and thus ends up on our worst foods list because it has to be scaled up very high to get these nutrients to where we want them to be."
   ]
  },
  {
   "cell_type": "code",
   "execution_count": null,
   "metadata": {
    "collapsed": false
   },
   "outputs": [],
   "source": [
    "def findOveragesCal(food):\n",
    "    for x in range(0,len(calnutrients)):\n",
    "        nutrient = calnutrients[x]\n",
    "        rec = recommended[x]\n",
    "        if(rec == -1):\n",
    "            continue\n",
    "        food[nutrient] -= rec\n",
    "    return food   \n",
    "caloverage_foods = calweighted_foods.apply(findOveragesCal,axis=1)\n",
    "def findPercentOveragesCal(food):\n",
    "    for x in range(0,len(calnutrients)):\n",
    "        nutrient = calnutrients[x]\n",
    "        rec = recommended[x]\n",
    "        if(rec == -1):\n",
    "            continue\n",
    "        food[nutrient] = ((food[nutrient]/rec)*100)-100\n",
    "    return food   \n",
    "caloverage_foods = calweighted_foods.apply(findPercentOveragesCal,axis=1)\n",
    "caloverage_foods[display].sort_values(by='Calories',ascending=False).head(10).rename(index=str,columns={'Protein (g)':'Protein (%)','Total Fat(g)':'Total Fat(%)','Cholesterol (mg)':'Cholesterol (%)',\n",
    "               'Saturated Fat (g)':'Saturated Fat (%)','Sodium (mg)':'Sodium (%)','Potassium (mg)':'Potassium (%)',\n",
    "               'Carbohydrates (g)':'Carbohydrates (%)','Fiber (g)':'Fiber (g)'})\n",
    "df = caloverage_foods.sort_values(by='Calories',ascending=False).head(10).rename(index=str,columns={'Protein (g)':'Protein (%)','Total Fat(g)':'Total Fat(%)','Cholesterol (mg)':'Cholesterol (%)',\n",
    "               'Saturated Fat (g)':'Saturated Fat (%)','Sodium (mg)':'Sodium (%)','Potassium (mg)':'Potassium (%)',\n",
    "               'Carbohydrates (g)':'Carbohydrates (%)','Fiber (g)':'Fiber (%)'})\n",
    "a = Bar(df, label='vars',group='Name', \n",
    "        values=blend('Protein (%)', 'Total Fat(%)','Cholesterol (%)',\n",
    "                     'Saturated Fat (%)','Sodium (%)','Potassium (%)',\n",
    "                     'Carbohydrates (%)','Fiber (%)',name='values', labels_name='vars'),\n",
    "        title=\"Excess Nutrients (% above recommended daily intake)\",width=900,palette=palettes.BrBG11)\n",
    "a.xaxis.axis_label = \"\"\n",
    "a.yaxis.axis_label = \"% above reccomended daily intake\"\n",
    "show(a)"
   ]
  },
  {
   "cell_type": "markdown",
   "metadata": {
    "collapsed": true
   },
   "source": [
    "Pork sausage is far and away the winner here, destroying the competition in five of the 8 nutrients we're looking at. This large scaling is due to it's lack of carbohydrates and fiber which accents it's wealth of saturated fat, protein, and sodium.\n",
    "\n",
    "Overall though, these foods are much lower in sodium, potassium, and protein than our best foods."
   ]
  },
  {
   "cell_type": "markdown",
   "metadata": {},
   "source": [
    "### Looking At  Everything\n",
    "\n",
    "After looking at the best and worst foods, we wanted a better look at the trends across all our foods, so we took a look at the average overages across our entire corpus of data.\n"
   ]
  },
  {
   "cell_type": "code",
   "execution_count": null,
   "metadata": {
    "collapsed": false
   },
   "outputs": [],
   "source": [
    "avg_nutrients = caloverage_foods.rename(index=str,columns={'Protein (g)':'Protein (%)','Total Fat(g)':'Total Fat(%)','Cholesterol (mg)':'Cholesterol (%)',\n",
    "               'Saturated Fat (g)':'Saturated Fat (%)','Sodium (mg)':'Sodium (%)','Potassium (mg)':'Potassium (%)',\n",
    "               'Carbohydrates (g)':'Carbohydrates (%)','Fiber (g)':'Fiber (%)'}).mean()\n",
    "avg_nutrients = avg_nutrients.drop(\"Weight (g)\")\n",
    "avg_nutrients = avg_nutrients.drop(\"Calories\")\n",
    "p = Bar(avg_nutrients)\n",
    "show(p)"
   ]
  },
  {
   "cell_type": "markdown",
   "metadata": {},
   "source": [
    "So over our entire data set, we're seeing very high levels of protein, fats and sodium compared to other nutrients. Surprisingly, the lowest average was cholesterol, which indicates that many foods have a healthy proportion of cholesterol overall.\n",
    "\n",
    "We also observed similar trends when looking at the median of our data, so this is a very real trend in our data."
   ]
  },
  {
   "cell_type": "markdown",
   "metadata": {},
   "source": [
    "## Final Analysis\n",
    "\n",
    "Several foods could singularly fulfill the nutritional recommendations of a traditional diet. Spinach baby food provides the best balance of nutrients. Considering that the amount that must be eaten to reach 2000 calories is twice as much as that of the other foods, perhaps we should include grams as an additional parameter to draw a more reasonable conclusion (see appendix). If you're skeptical about reliving the good ol' days with spinach mush, chicken noodle soup, chili and beans, or Kashi chicken fettuccini are great 'superfood' alternatives.\n",
    "Our 'best foods' tend to be lower in carbohydrates than the worse foods, and have a good balance of nutrients. Sodium levels in the foods tend to be extremely high, which makes sense, as most of them are pre-prepared meals. On average, foods in the USDA database tend to have more excess fat and sodium than any other nutrient."
   ]
  },
  {
   "cell_type": "markdown",
   "metadata": {},
   "source": [
    "## Appendix: What about grams?\n",
    "Throughout this entire notebook we looked at our food through the lens of calories, but we also had a few interesting findings when we looked at which foods meet nutritional guidelines for the least amount of weight."
   ]
  },
  {
   "cell_type": "code",
   "execution_count": null,
   "metadata": {
    "collapsed": false
   },
   "outputs": [],
   "source": [
    "calweighted_foods[display].sort_values(by='Weight (g)').head(10)"
   ]
  },
  {
   "cell_type": "markdown",
   "metadata": {},
   "source": [
    "There are a lot of pancakes, pizza, and school lunches on the list.\n",
    "To put some of these foods into perspective:\n",
    "\n",
    "* Potato Pancakes: 1078 grams = 49 pancakes\n",
    "* Chicken Noodle Soup: 1143 grams = 15 packets\n",
    "* Digiorno Thin Crust Pizza: 1305 grams = 2.4 Pizzas\n",
    "\n",
    "These are usually the foods that people buy when they need to feed a lot of people, but what's interesting is that the companies seem to be maximizing the nutritional content of these foods for the least amount of weight possible."
   ]
  },
  {
   "cell_type": "code",
   "execution_count": null,
   "metadata": {
    "collapsed": false
   },
   "outputs": [],
   "source": [
    "df = caloverage_foods.sort_values(by='Weight (g)').head(10).rename(index=str,columns={'Protein (g)':'Protein (%)','Total Fat(g)':'Total Fat(%)','Cholesterol (mg)':'Cholesterol (%)',\n",
    "               'Saturated Fat (g)':'Saturated Fat (%)','Sodium (mg)':'Sodium (%)','Potassium (mg)':'Potassium (%)',\n",
    "               'Carbohydrates (g)':'Carbohydrates (%)','Fiber (g)':'Fiber (g)'})\n",
    "a = Bar(df, label='vars',group='Name', \n",
    "        values=blend('Protein (%)', 'Total Fat(%)','Cholesterol (%)',\n",
    "                     'Saturated Fat (%)','Sodium (%)','Potassium (%)',\n",
    "                     'Carbohydrates (%)','Fiber (%)',name='values', labels_name='vars'),\n",
    "        title=\"Excess Nutrients (% above recommended daily intake)\",width=900)\n",
    "a.xaxis.axis_label = \"\"\n",
    "a.yaxis.axis_label = \"% above reccomended daily intake\"\n",
    "show(a)"
   ]
  },
  {
   "cell_type": "markdown",
   "metadata": {},
   "source": [
    "When you look at the percent overages on the foods in the above graph, it's clear that they run into the same problems as most of the foods in our data set with high levels of sodium, protein, and fats.\n",
    "\n",
    "On the whole, the results we get when optimizing by weight exhibit similar characteristics to those found when we optimized by calorie, but reveal a different set of foods that serve a different purpose."
   ]
  },
  {
   "cell_type": "code",
   "execution_count": null,
   "metadata": {
    "collapsed": true
   },
   "outputs": [],
   "source": []
  }
 ],
 "metadata": {
  "anaconda-cloud": {},
  "kernelspec": {
   "display_name": "Python [conda env:cs489]",
   "language": "python",
   "name": "conda-env-cs489-py"
  },
  "language_info": {
   "codemirror_mode": {
    "name": "ipython",
    "version": 2
   },
   "file_extension": ".py",
   "mimetype": "text/x-python",
   "name": "python",
   "nbconvert_exporter": "python",
   "pygments_lexer": "ipython2",
   "version": "2.7.12"
  }
 },
 "nbformat": 4,
 "nbformat_minor": 0
}
