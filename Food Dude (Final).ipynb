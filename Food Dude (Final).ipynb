{
 "cells": [
  {
   "cell_type": "markdown",
   "metadata": {},
   "source": [
    "# Nutritional Analysis of Foods\n",
    "## Overview and Motivation\n",
    "\n",
    "## Related work\n",
    "\n",
    "## Initial Questions\n",
    "* Is there a food that, if eaten solely could fulfill all the nutritional requirements of a 2000 calorie diet?\n",
    "* What are the foods that provide all the nutritional value you need for the least amount of Calories?\n",
    "* What are some overall trends of the best foods?\n",
    "* What are the trends of all the foods that provide you with enough nutrients?\n",
    "\n",
    "## Exploratory Analysis\n"
   ]
  },
  {
   "cell_type": "code",
   "execution_count": null,
   "metadata": {
    "collapsed": true
   },
   "outputs": [],
   "source": []
  }
 ],
 "metadata": {
  "kernelspec": {
   "display_name": "Python [Root]",
   "language": "python",
   "name": "Python [Root]"
  },
  "language_info": {
   "codemirror_mode": {
    "name": "ipython",
    "version": 2
   },
   "file_extension": ".py",
   "mimetype": "text/x-python",
   "name": "python",
   "nbconvert_exporter": "python",
   "pygments_lexer": "ipython2",
   "version": "2.7.12"
  }
 },
 "nbformat": 4,
 "nbformat_minor": 0
}
