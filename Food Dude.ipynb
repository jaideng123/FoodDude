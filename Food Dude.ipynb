{
 "cells": [
  {
   "cell_type": "markdown",
   "metadata": {
    "collapsed": true
   },
   "source": [
    "# Food Dude\n",
    "### Jaiden Gerig, Oron Hazi, Justin Katz, Kyle Wilson"
   ]
  },
  {
   "cell_type": "markdown",
   "metadata": {},
   "source": [
    "## Importing Our Data\n",
    "Luckily this is all in a CSV file so we can grab it easilty with Pandas"
   ]
  },
  {
   "cell_type": "code",
   "execution_count": null,
   "metadata": {
    "collapsed": false
   },
   "outputs": [],
   "source": [
    "import pandas as pd\n",
    "import matplotlib.pyplot as plt\n",
    "%matplotlib inline\n",
    "\n",
    "foods = pd.read_csv('ABBREV.csv', index_col=0)\n",
    "foods.head()"
   ]
  },
  {
   "cell_type": "markdown",
   "metadata": {},
   "source": [
    "## Washing Our Food\n",
    "to start off we only wanted to look at the main nutritional values (Protein,Fat,Sodium,Etc.) of each food"
   ]
  },
  {
   "cell_type": "code",
   "execution_count": null,
   "metadata": {
    "collapsed": false
   },
   "outputs": [],
   "source": [
    "#Rename some of our columns to something a bit easier on the eyes\n",
    "foods = foods.rename(index=str,columns={'Shrt_Desc':'Name','Protein_(g)':'Protein (g)','Lipid_Tot_(g)':'Total Fat(g)','Cholestrl_(mg)':'Cholesterol (mg)',\n",
    "               'FA_Sat_(g)':'Saturated Fat (g)','Sodium_(mg)':'Sodium (mg)','Potassium_(mg)':'Potassium (mg)',\n",
    "               'Carbohydrt_(g)':'Carbohydrates (g)','Fiber_TD_(g)':'Fiber (g)'})\n",
    "# Look at a specific subset of nutrients\n",
    "foods['Weight (g)'] = 100\n",
    "nutrients = ['Name','Protein (g)','Total Fat(g)','Cholesterol (mg)',\n",
    "               'Saturated Fat (g)','Sodium (mg)','Potassium (mg)',\n",
    "               'Carbohydrates (g)','Fiber (g)','Weight (g)']\n",
    "foods = foods[nutrients]\n",
    "foods = foods.fillna(0)\n",
    "# Get rid of foods we dont have serving sizes for\n",
    "foods = foods[foods.apply(lambda x:x['Weight (g)'] > 0, axis=1)]\n",
    "foods.head()"
   ]
  },
  {
   "cell_type": "markdown",
   "metadata": {},
   "source": [
    "We wanted to look the nutritional value of each food regardless of serving size, so we normalized them to 1 gram"
   ]
  },
  {
   "cell_type": "code",
   "execution_count": null,
   "metadata": {
    "collapsed": false
   },
   "outputs": [],
   "source": [
    "# Normalizing all our foods to 1 g\n",
    "def normalizeNutrients(x):\n",
    "    ratio = x['Weight (g)']\n",
    "    for nutrient in nutrients:\n",
    "        if(type(x[nutrient]) is str):\n",
    "            continue\n",
    "        x[nutrient] = x[nutrient]/ratio\n",
    "    return x\n",
    "foods = foods.apply(normalizeNutrients,axis=1)\n",
    "avg_nutrients = foods.mean()\n",
    "avg_nutrients = avg_nutrients.drop(\"Weight (g)\")\n",
    "foods.head()"
   ]
  },
  {
   "cell_type": "markdown",
   "metadata": {},
   "source": [
    "## Making a Meal\n",
    "We started our food analysis by taking all the foods and Scaling them up to meet the demands of an average a 2000 calorie diet according to [Netrition](http://www.netrition.com/rdi_page.html).\n",
    "\n",
    "The first step we took was to exclude foods that didnt contain all the nutrients we were looking at"
   ]
  },
  {
   "cell_type": "code",
   "execution_count": null,
   "metadata": {
    "collapsed": false
   },
   "outputs": [],
   "source": [
    "# We only want foods that have a chance to sustain our needs\n",
    "def filterNutrients(x):\n",
    "    for nutrient in nutrients:\n",
    "        if(x[nutrient] <= 0):\n",
    "            return False\n",
    "    return True\n",
    "foods = foods[foods.apply(filterNutrients, axis=1)]\n",
    "print 'Matching Foods:',len(foods)\n",
    "foods.head()"
   ]
  },
  {
   "cell_type": "markdown",
   "metadata": {},
   "source": [
    "Nice, That leaves us with almost 1400 foods to look at, not too shabby\n",
    "So let's take these foods and scale them up to see how many grams of each we would have to consume to fulfill our daily nutrition requirements"
   ]
  },
  {
   "cell_type": "code",
   "execution_count": null,
   "metadata": {
    "collapsed": false,
    "scrolled": false
   },
   "outputs": [],
   "source": [
    "# http://www.netrition.com/rdi_page.html\n",
    "recommended = [-1,50,65,300,20,2400,3500,300,25,-1]\n",
    "def findSatisfyingWeight(food):\n",
    "    for x in range(0,len(nutrients)):\n",
    "        nutrient = nutrients[x]\n",
    "        rec = recommended[x]\n",
    "        if(rec == -1 or food[nutrient] >= rec):\n",
    "            continue\n",
    "        ratio = rec/food[nutrient]\n",
    "        for y in nutrients:\n",
    "            if(type(food[y]) is str):\n",
    "                continue\n",
    "            food[y] = food[y]*ratio\n",
    "    return food   \n",
    "weighted_foods = foods.apply(findSatisfyingWeight,axis=1)\n",
    "display = ['Name','Weight (g)','Protein (g)','Total Fat(g)','Cholesterol (mg)',\n",
    "               'Saturated Fat (g)','Sodium (mg)','Potassium (mg)',\n",
    "               'Carbohydrates (g)','Fiber (g)']\n",
    "weighted_foods[display].sort_values(by='Weight (g)').head(10)"
   ]
  },
  {
   "cell_type": "markdown",
   "metadata": {},
   "source": [
    "Yikes, none of that seems very healthy at all\n",
    "\n",
    "To some of these foods into perspective:\n",
    "\n",
    "* Potato Pancakes: 1078 grams = 49 pancakes\n",
    "* Chicken Noodle Soup: 1143 grams = 15 packets\n",
    "* Digiorno Thin Crust Pizza: 1305 grams = 2.4 Pizza\n",
    "\n",
    "Let's see what happens when we look at how far over the reccomended nutritional values these foods go"
   ]
  },
  {
   "cell_type": "code",
   "execution_count": null,
   "metadata": {
    "collapsed": false
   },
   "outputs": [],
   "source": [
    "from bokeh.io import push_notebook,show,output_notebook\n",
    "from bokeh.layouts import row\n",
    "from bokeh.plotting import figure\n",
    "from bokeh.charts import Bar, output_file, show\n",
    "from bokeh.models import Range1d\n",
    "from bokeh.charts.operations import blend\n",
    "from bokeh import palettes\n",
    "output_notebook()\n",
    "def findOverages(food):\n",
    "    for x in range(0,len(nutrients)):\n",
    "        nutrient = nutrients[x]\n",
    "        rec = recommended[x]\n",
    "        if(rec == -1):\n",
    "            continue\n",
    "        food[nutrient] -= rec\n",
    "    return food   \n",
    "overage_foods = weighted_foods.apply(findOverages,axis=1)\n",
    "df = overage_foods.sort_values(by='Weight (g)').head(10)\n",
    "a = Bar(df, 'Name', values='Protein (g)', title=\"Excess Protein\",legend=False,width=450,continuous_range=Range1d(0,100))\n",
    "b = Bar(df, 'Name', values='Total Fat(g)', title=\"Excess Total Fat\",legend=False,width=450)\n",
    "a.xaxis.axis_label = \"\"\n",
    "b.xaxis.axis_label = \"\"\n",
    "show(row(a,b))\n",
    "a = Bar(df, 'Name', values='Cholesterol (mg)', title=\"Excess Cholesterol\",legend=False,width=450)\n",
    "b = Bar(df, 'Name', values='Saturated Fat (g)', title=\"Excess Saturated Fats\",legend=False,width=450)\n",
    "a.xaxis.axis_label = \"\"\n",
    "b.xaxis.axis_label = \"\"\n",
    "show(row(a,b))\n",
    "a = Bar(df, 'Name', values='Sodium (mg)', title=\"Excess Sodium\",legend=False,width=450)\n",
    "b = Bar(df, 'Name', values='Potassium (mg)', title=\"Excess Potassium\",legend=False,width=450)\n",
    "a.xaxis.axis_label = \"\"\n",
    "b.xaxis.axis_label = \"\"\n",
    "show(row(a,b))\n",
    "a = Bar(df, 'Name', values='Carbohydrates (g)', title=\"Excess Carbohydrates\",legend=False,width=450)\n",
    "b = Bar(df, 'Name', values='Fiber (g)', title=\"Excess Fiber\",legend=False,width=450)\n",
    "a.xaxis.axis_label = \"\"\n",
    "b.xaxis.axis_label = \"\"\n",
    "show(row(a,b))"
   ]
  },
  {
   "cell_type": "markdown",
   "metadata": {
    "collapsed": true
   },
   "source": [
    "So that gives us a general idea of what kind of foods have common excesses but it's hard to compare them to each-other so let's convert them to percentages of the 2000 calorie diet over 100%"
   ]
  },
  {
   "cell_type": "code",
   "execution_count": null,
   "metadata": {
    "collapsed": false
   },
   "outputs": [],
   "source": [
    "def findPercentOverages(food):\n",
    "    for x in range(0,len(nutrients)):\n",
    "        nutrient = nutrients[x]\n",
    "        rec = recommended[x]\n",
    "        if(rec == -1):\n",
    "            continue\n",
    "        food[nutrient] = ((food[nutrient]/rec)*100)-100\n",
    "    return food   \n",
    "overage_foods = weighted_foods.apply(findPercentOverages,axis=1)\n",
    "overage_foods[display].sort_values(by='Weight (g)').head(10).rename(index=str,columns={'Protein (g)':'Protein (%)','Total Fat(g)':'Total Fat(%)','Cholesterol (mg)':'Cholesterol (%)',\n",
    "               'Saturated Fat (g)':'Saturated Fat (%)','Sodium (mg)':'Sodium (%)','Potassium (mg)':'Potassium (%)',\n",
    "               'Carbohydrates (g)':'Carbohydrates (%)','Fiber (g)':'Fiber (g)'})"
   ]
  },
  {
   "cell_type": "markdown",
   "metadata": {},
   "source": [
    "And now let's chart them again with a uniform scale\n"
   ]
  },
  {
   "cell_type": "code",
   "execution_count": null,
   "metadata": {
    "collapsed": false
   },
   "outputs": [],
   "source": [
    "df = overage_foods.sort_values(by='Weight (g)').head(10).rename(index=str,columns={'Protein (g)':'Protein (%)','Total Fat(g)':'Total Fat(%)','Cholesterol (mg)':'Cholesterol (%)',\n",
    "               'Saturated Fat (g)':'Saturated Fat (%)','Sodium (mg)':'Sodium (%)','Potassium (mg)':'Potassium (%)',\n",
    "               'Carbohydrates (g)':'Carbohydrates (%)','Fiber (g)':'Fiber (g)'})\n",
    "a = Bar(df, label='vars',group='Name', \n",
    "        values=blend('Protein (%)', 'Total Fat(%)','Cholesterol (%)',\n",
    "                     'Saturated Fat (%)','Sodium (%)','Potassium (%)',\n",
    "                     'Carbohydrates (%)','Fiber (%)',name='values', labels_name='vars'),\n",
    "        title=\"Excess Nutrients (% above recommended daily intake)\",width=900)\n",
    "a.xaxis.axis_label = \"\"\n",
    "a.yaxis.axis_label = \"% above reccomended daily intake\"\n",
    "show(a)\n",
    "output_notebook()"
   ]
  },
  {
   "cell_type": "markdown",
   "metadata": {},
   "source": [
    "Holy Guacamole! Look at that sodium!\n",
    "\n",
    "It looks like potassium and sodium are crazy high compared to the other nutrients, which is most likely because they're the only nutrients measured in milligrams instead of grams, so let's see what the graph looks like without them so we can get a better understanding of the other nutrients"
   ]
  },
  {
   "cell_type": "code",
   "execution_count": null,
   "metadata": {
    "collapsed": false
   },
   "outputs": [],
   "source": [
    "df = overage_foods.sort_values(by='Weight (g)').head(10).rename(index=str,columns={'Protein (g)':'Protein (%)','Total Fat(g)':'Total Fat(%)','Cholesterol (mg)':'Cholesterol (%)',\n",
    "               'Saturated Fat (g)':'Saturated Fat (%)','Sodium (mg)':'Sodium (%)','Potassium (mg)':'Potassium (%)',\n",
    "               'Carbohydrates (g)':'Carbohydrates (%)','Fiber (g)':'Fiber (g)'})\n",
    "a = Bar(df, label='vars',group='Name', \n",
    "        values=blend('Protein (%)', 'Total Fat(%)','Cholesterol (%)',\n",
    "                     'Saturated Fat (%)',\n",
    "                     'Carbohydrates (%)','Fiber (%)',name='values', labels_name='vars'),\n",
    "        title=\"Excess Nutrients (% above recommended daily intake) (Excluding Sodium & Potassium)\",width=900,height=1000,palette=palettes.BrBG11)\n",
    "a.xaxis.axis_label = \"\"\n",
    "a.yaxis.axis_label = \"% above reccomended daily intake\"\n",
    "show(a)\n",
    "output_notebook()"
   ]
  },
  {
   "cell_type": "markdown",
   "metadata": {},
   "source": [
    "So overall, it appears that these foods are providing mainly carbs and sodium at the expense of other nutrients "
   ]
  },
  {
   "cell_type": "markdown",
   "metadata": {
    "collapsed": true
   },
   "source": [
    "## What about nutrients per calorie?\n",
    "\n",
    "As most people know, the average optimal number of calories that someone should eat in one day is 2000. The work we have done thus far is concerned with the amount of nutrients per gram, but grams are not necessarily the best indication of the nutritional value of your food. Because of this, we want to do similar analysis, but optimizing the nutrients per calorie, rather than nutrients per gram."
   ]
  },
  {
   "cell_type": "code",
   "execution_count": null,
   "metadata": {
    "collapsed": false
   },
   "outputs": [],
   "source": [
    "# Here we do some preliminary data preparation, mostly copying what was done before.\n",
    "\n",
    "calfoods = pd.read_csv('ABBREV.csv', index_col=0)\n",
    "\n",
    "#Rename some of our columns to something a bit easier on the eyes\n",
    "calfoods = calfoods.rename(index=str,columns={'Shrt_Desc':'Name','Protein_(g)':'Protein (g)','Lipid_Tot_(g)':'Total Fat(g)','Cholestrl_(mg)':'Cholesterol (mg)',\n",
    "               'FA_Sat_(g)':'Saturated Fat (g)','Sodium_(mg)':'Sodium (mg)','Potassium_(mg)':'Potassium (mg)',\n",
    "               'Carbohydrt_(g)':'Carbohydrates (g)','Fiber_TD_(g)':'Fiber (g)','Energ_Kcal':'Calories'})\n",
    "# Look at a specific subset of nutrients\n",
    "calnutrients = ['Name','Protein (g)','Total Fat(g)','Cholesterol (mg)',\n",
    "               'Saturated Fat (g)','Sodium (mg)','Potassium (mg)',\n",
    "               'Carbohydrates (g)','Fiber (g)','Calories']\n",
    "calfoods = calfoods[calnutrients]\n",
    "calfoods = calfoods.fillna(0)\n",
    "# Get rid of foods we dont have serving sizes for\n",
    "calfoods = calfoods[calfoods.apply(lambda x:x['Calories'] > 0, axis=1)]\n",
    "\n",
    "# Convert sodium and potassium to grams\n",
    "\n",
    "\n",
    "# Normalizing all our foods to 1 calorie\n",
    "def normalizeNutrientsCal(x):\n",
    "    ratio = x['Calories']\n",
    "    for nutrient in calnutrients:\n",
    "        if(type(x[nutrient]) is str):\n",
    "            continue\n",
    "        x[nutrient] = x[nutrient]/ratio\n",
    "    return x\n",
    "calfoods = calfoods.apply(normalizeNutrientsCal,axis=1)\n",
    "calfoods.head()\n",
    "\n",
    "# We only want foods that have a chance to sustain our needs\n",
    "def filterNutrientsCal(x):\n",
    "    for nutrient in calnutrients:\n",
    "        if(x[nutrient] <= 0):\n",
    "            return False\n",
    "    return True\n",
    "calfoods = calfoods[calfoods.apply(filterNutrientsCal, axis=1)]\n",
    "calfoods.head(5)"
   ]
  },
  {
   "cell_type": "markdown",
   "metadata": {},
   "source": [
    "As we can see, we now have all of the foods with their nutrients weighted per calorie. However, this does not tell us a whole lot. Lets find out how many calories we would need to eat for each food to get our nutritional goal."
   ]
  },
  {
   "cell_type": "code",
   "execution_count": null,
   "metadata": {
    "collapsed": false
   },
   "outputs": [],
   "source": [
    "# http://www.netrition.com/rdi_page.html\n",
    "recommended = [-1,50,65,300,20,2400,3500,300,25,-1]\n",
    "def findSatisfyingWeightCal(food):\n",
    "    for x in range(0,len(calnutrients)):\n",
    "        nutrient = calnutrients[x]\n",
    "        rec = recommended[x]\n",
    "        if(rec == -1 or food[nutrient] >= rec):\n",
    "            continue\n",
    "        ratio = rec/food[nutrient]\n",
    "        for y in calnutrients:\n",
    "            if(type(food[y]) is str):\n",
    "                continue\n",
    "            food[y] = food[y]*ratio\n",
    "    return food   \n",
    "calweighted_foods = calfoods.apply(findSatisfyingWeightCal,axis=1)\n",
    "display = ['Name','Calories','Protein (g)','Total Fat(g)','Cholesterol (mg)',\n",
    "               'Saturated Fat (g)','Sodium (mg)','Potassium (mg)',\n",
    "               'Carbohydrates (g)','Fiber (g)']\n",
    "calweighted_foods[display].sort_values(by='Calories').head(10)"
   ]
  },
  {
   "cell_type": "markdown",
   "metadata": {},
   "source": [
    "Like before, we go far over our goals for each nutrient. We also go over our preferred caloric intake. Additonally, we get a very different set of foods than when we looked at nutrients per gram. Let's now look and see how far over each of these we are going."
   ]
  },
  {
   "cell_type": "code",
   "execution_count": null,
   "metadata": {
    "collapsed": false
   },
   "outputs": [],
   "source": [
    "from bokeh.io import push_notebook,show,output_notebook\n",
    "from bokeh.layouts import row\n",
    "from bokeh.plotting import figure\n",
    "from bokeh.charts import Bar, output_file, show\n",
    "from bokeh.models import Range1d\n",
    "from bokeh.charts.operations import blend\n",
    "from bokeh import palettes\n",
    "def findOveragesCal(food):\n",
    "    for x in range(0,len(calnutrients)):\n",
    "        nutrient = calnutrients[x]\n",
    "        rec = recommended[x]\n",
    "        if(rec == -1):\n",
    "            continue\n",
    "        food[nutrient] -= rec\n",
    "    return food   \n",
    "caloverage_foods = calweighted_foods.apply(findOveragesCal,axis=1)\n",
    "df = caloverage_foods.sort_values(by='Calories').head(10)\n",
    "a = Bar(df, 'Name', values='Protein (g)', title=\"Excess Protein\",legend=False,width=450,continuous_range=Range1d(0,100))\n",
    "b = Bar(df, 'Name', values='Total Fat(g)', title=\"Excess Total Fat\",legend=False,width=450)\n",
    "a.xaxis.axis_label = \"\"\n",
    "b.xaxis.axis_label = \"\"\n",
    "show(row(a,b))\n",
    "a = Bar(df, 'Name', values='Cholesterol (mg)', title=\"Excess Cholesterol\",legend=False,width=450)\n",
    "b = Bar(df, 'Name', values='Saturated Fat (g)', title=\"Excess Saturated Fats\",legend=False,width=450)\n",
    "a.xaxis.axis_label = \"\"\n",
    "b.xaxis.axis_label = \"\"\n",
    "show(row(a,b))\n",
    "a = Bar(df, 'Name', values='Sodium (mg)', title=\"Excess Sodium\",legend=False,width=450)\n",
    "b = Bar(df, 'Name', values='Potassium (mg)', title=\"Excess Potassium\",legend=False,width=450)\n",
    "a.xaxis.axis_label = \"\"\n",
    "b.xaxis.axis_label = \"\"\n",
    "show(row(a,b))\n",
    "a = Bar(df, 'Name', values='Carbohydrates (g)', title=\"Excess Carbohydrates\",legend=False,width=450)\n",
    "b = Bar(df, 'Name', values='Fiber (g)', title=\"Excess Fiber\",legend=False,width=450)\n",
    "a.xaxis.axis_label = \"\"\n",
    "b.xaxis.axis_label = \"\"\n",
    "show(row(a,b))\n",
    "output_notebook()"
   ]
  },
  {
   "cell_type": "markdown",
   "metadata": {},
   "source": [
    "Like before, let's look at these as a percentage of the 2000 calorie diet."
   ]
  },
  {
   "cell_type": "code",
   "execution_count": null,
   "metadata": {
    "collapsed": false
   },
   "outputs": [],
   "source": [
    "def findPercentOveragesCal(food):\n",
    "    for x in range(0,len(calnutrients)):\n",
    "        nutrient = calnutrients[x]\n",
    "        rec = recommended[x]\n",
    "        if(rec == -1):\n",
    "            continue\n",
    "        food[nutrient] = ((food[nutrient]/rec)*100)-100\n",
    "    return food   \n",
    "caloverage_foods = calweighted_foods.apply(findPercentOveragesCal,axis=1)\n",
    "caloverage_foods[display].sort_values(by='Calories').head(10).rename(index=str,columns={'Protein (g)':'Protein (%)','Total Fat(g)':'Total Fat(%)','Cholesterol (mg)':'Cholesterol (%)',\n",
    "               'Saturated Fat (g)':'Saturated Fat (%)','Sodium (mg)':'Sodium (%)','Potassium (mg)':'Potassium (%)',\n",
    "               'Carbohydrates (g)':'Carbohydrates (%)','Fiber (g)':'Fiber (g)'})"
   ]
  },
  {
   "cell_type": "markdown",
   "metadata": {},
   "source": [
    "Charting again with a uniform scale:"
   ]
  },
  {
   "cell_type": "code",
   "execution_count": null,
   "metadata": {
    "collapsed": false
   },
   "outputs": [],
   "source": [
    "df = caloverage_foods.sort_values(by='Calories').head(10).rename(index=str,columns={'Protein (g)':'Protein (%)','Total Fat(g)':'Total Fat(%)','Cholesterol (mg)':'Cholesterol (%)',\n",
    "               'Saturated Fat (g)':'Saturated Fat (%)','Sodium (mg)':'Sodium (%)','Potassium (mg)':'Potassium (%)',\n",
    "               'Carbohydrates (g)':'Carbohydrates (%)','Fiber (g)':'Fiber (g)'})\n",
    "a = Bar(df, label='vars',group='Name', \n",
    "        values=blend('Protein (%)', 'Total Fat(%)','Cholesterol (%)',\n",
    "                     'Saturated Fat (%)','Sodium (%)','Potassium (%)',\n",
    "                     'Carbohydrates (%)','Fiber (%)',name='values', labels_name='vars'),\n",
    "        title=\"Excess Nutrients (% above recommended daily intake)\",width=900)\n",
    "a.xaxis.axis_label = \"\"\n",
    "a.yaxis.axis_label = \"% above reccomended daily intake\"\n",
    "show(a)\n",
    "output_notebook()"
   ]
  },
  {
   "cell_type": "markdown",
   "metadata": {},
   "source": [
    "Again, our sodium and potassium are much higher than the other nutrients. Let's take them out and take another look."
   ]
  },
  {
   "cell_type": "code",
   "execution_count": null,
   "metadata": {
    "collapsed": false
   },
   "outputs": [],
   "source": [
    "df = caloverage_foods.sort_values(by='Calories').head(10).rename(index=str,columns={'Protein (g)':'Protein (%)','Total Fat(g)':'Total Fat(%)','Cholesterol (mg)':'Cholesterol (%)',\n",
    "               'Saturated Fat (g)':'Saturated Fat (%)','Sodium (mg)':'Sodium (%)','Potassium (mg)':'Potassium (%)',\n",
    "               'Carbohydrates (g)':'Carbohydrates (%)','Fiber (g)':'Fiber (g)'})\n",
    "a = Bar(df, label='vars',group='Name', \n",
    "        values=blend('Protein (%)', 'Total Fat(%)','Cholesterol (%)',\n",
    "                     'Saturated Fat (%)',\n",
    "                     'Carbohydrates (%)','Fiber (%)',name='values', labels_name='vars'),\n",
    "        title=\"Excess Nutrients (% above recommended daily intake) (Excluding Sodium & Potassium)\",width=900,height=1000,palette=palettes.BrBG11)\n",
    "a.xaxis.axis_label = \"\"\n",
    "a.yaxis.axis_label = \"% above reccomended daily intake\"\n",
    "show(a)\n",
    "output_notebook()"
   ]
  },
  {
   "cell_type": "markdown",
   "metadata": {},
   "source": [
    "While these percentages aren't nearly as high as when looking at the overages for weight, we can still see a lot of overages for per calorie nutrients. However, it seems now that instead of sacrificing other nutrients for carbs, it is sacrificing them for cholesterol."
   ]
  },
  {
   "cell_type": "markdown",
   "metadata": {
    "collapsed": true
   },
   "source": [
    "## What's in your cart?\n",
    "\n",
    "Let's look at the average of food nutrients found in this dataset, and see if there are any weird things happening...\n",
    "THINGS TO ADD TO THIS - Maybe show recommended nutrient intake stacked against this"
   ]
  },
  {
   "cell_type": "code",
   "execution_count": null,
   "metadata": {
    "collapsed": false
   },
   "outputs": [],
   "source": [
    "print avg_nutrients\n",
    "avg_nutrients[\"Sodium (mg)\"] /= 1000\n",
    "avg_nutrients[\"Cholesterol (mg)\"] /= 1000\n",
    "avg_nutrients[\"Potassium (mg)\"] /= 1000\n",
    "p = Bar(avg_nutrients)\n",
    "show(p)"
   ]
  },
  {
   "cell_type": "code",
   "execution_count": null,
   "metadata": {
    "collapsed": true
   },
   "outputs": [],
   "source": []
  }
 ],
 "metadata": {
  "anaconda-cloud": {},
  "kernelspec": {
   "display_name": "Python [Root]",
   "language": "python",
   "name": "Python [Root]"
  },
  "language_info": {
   "codemirror_mode": {
    "name": "ipython",
    "version": 2
   },
   "file_extension": ".py",
   "mimetype": "text/x-python",
   "name": "python",
   "nbconvert_exporter": "python",
   "pygments_lexer": "ipython2",
   "version": "2.7.12"
  }
 },
 "nbformat": 4,
 "nbformat_minor": 0
}
